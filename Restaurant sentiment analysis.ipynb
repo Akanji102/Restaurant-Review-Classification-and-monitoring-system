{
 "cells": [
  {
   "cell_type": "code",
   "id": "initial_id",
   "metadata": {
    "collapsed": true,
    "ExecuteTime": {
     "end_time": "2025-10-15T10:49:47.969534Z",
     "start_time": "2025-10-15T10:49:47.963326Z"
    }
   },
   "source": [
    "import pandas as pd\n",
    "import numpy as no\n",
    "import matplotlib.pyplot as plt\n"
   ],
   "outputs": [],
   "execution_count": 1
  },
  {
   "metadata": {
    "ExecuteTime": {
     "end_time": "2025-10-15T10:49:48.161234Z",
     "start_time": "2025-10-15T10:49:48.006585Z"
    }
   },
   "cell_type": "code",
   "source": "data = pd.read_csv('Restaurant_reviews.csv')",
   "id": "b5ae0b331a5de88c",
   "outputs": [],
   "execution_count": 2
  },
  {
   "metadata": {
    "ExecuteTime": {
     "end_time": "2025-10-15T10:49:48.275029Z",
     "start_time": "2025-10-15T10:49:48.242123Z"
    }
   },
   "cell_type": "code",
   "source": "data.head()",
   "id": "a18cfae1f339facb",
   "outputs": [
    {
     "data": {
      "text/plain": [
       "        Restaurant              Reviewer  \\\n",
       "0  Beyond Flavours     Rusha Chakraborty   \n",
       "1  Beyond Flavours  Anusha Tirumalaneedi   \n",
       "2  Beyond Flavours       Ashok Shekhawat   \n",
       "3  Beyond Flavours        Swapnil Sarkar   \n",
       "4  Beyond Flavours                Dileep   \n",
       "\n",
       "                                              Review Rating  \\\n",
       "0  The ambience was good, food was quite good . h...      5   \n",
       "1  Ambience is too good for a pleasant evening. S...      5   \n",
       "2  A must try.. great food great ambience. Thnx f...      5   \n",
       "3  Soumen das and Arun was a great guy. Only beca...      5   \n",
       "4  Food is good.we ordered Kodi drumsticks and ba...      5   \n",
       "\n",
       "                  Metadata             Time  Pictures    7514  \n",
       "0   1 Review , 2 Followers  5/25/2019 15:54         0  2447.0  \n",
       "1  3 Reviews , 2 Followers  5/25/2019 14:20         0     NaN  \n",
       "2  2 Reviews , 3 Followers  5/24/2019 22:54         0     NaN  \n",
       "3    1 Review , 1 Follower  5/24/2019 22:11         0     NaN  \n",
       "4  3 Reviews , 2 Followers  5/24/2019 21:37         0     NaN  "
      ],
      "text/html": [
       "<div>\n",
       "<style scoped>\n",
       "    .dataframe tbody tr th:only-of-type {\n",
       "        vertical-align: middle;\n",
       "    }\n",
       "\n",
       "    .dataframe tbody tr th {\n",
       "        vertical-align: top;\n",
       "    }\n",
       "\n",
       "    .dataframe thead th {\n",
       "        text-align: right;\n",
       "    }\n",
       "</style>\n",
       "<table border=\"1\" class=\"dataframe\">\n",
       "  <thead>\n",
       "    <tr style=\"text-align: right;\">\n",
       "      <th></th>\n",
       "      <th>Restaurant</th>\n",
       "      <th>Reviewer</th>\n",
       "      <th>Review</th>\n",
       "      <th>Rating</th>\n",
       "      <th>Metadata</th>\n",
       "      <th>Time</th>\n",
       "      <th>Pictures</th>\n",
       "      <th>7514</th>\n",
       "    </tr>\n",
       "  </thead>\n",
       "  <tbody>\n",
       "    <tr>\n",
       "      <th>0</th>\n",
       "      <td>Beyond Flavours</td>\n",
       "      <td>Rusha Chakraborty</td>\n",
       "      <td>The ambience was good, food was quite good . h...</td>\n",
       "      <td>5</td>\n",
       "      <td>1 Review , 2 Followers</td>\n",
       "      <td>5/25/2019 15:54</td>\n",
       "      <td>0</td>\n",
       "      <td>2447.0</td>\n",
       "    </tr>\n",
       "    <tr>\n",
       "      <th>1</th>\n",
       "      <td>Beyond Flavours</td>\n",
       "      <td>Anusha Tirumalaneedi</td>\n",
       "      <td>Ambience is too good for a pleasant evening. S...</td>\n",
       "      <td>5</td>\n",
       "      <td>3 Reviews , 2 Followers</td>\n",
       "      <td>5/25/2019 14:20</td>\n",
       "      <td>0</td>\n",
       "      <td>NaN</td>\n",
       "    </tr>\n",
       "    <tr>\n",
       "      <th>2</th>\n",
       "      <td>Beyond Flavours</td>\n",
       "      <td>Ashok Shekhawat</td>\n",
       "      <td>A must try.. great food great ambience. Thnx f...</td>\n",
       "      <td>5</td>\n",
       "      <td>2 Reviews , 3 Followers</td>\n",
       "      <td>5/24/2019 22:54</td>\n",
       "      <td>0</td>\n",
       "      <td>NaN</td>\n",
       "    </tr>\n",
       "    <tr>\n",
       "      <th>3</th>\n",
       "      <td>Beyond Flavours</td>\n",
       "      <td>Swapnil Sarkar</td>\n",
       "      <td>Soumen das and Arun was a great guy. Only beca...</td>\n",
       "      <td>5</td>\n",
       "      <td>1 Review , 1 Follower</td>\n",
       "      <td>5/24/2019 22:11</td>\n",
       "      <td>0</td>\n",
       "      <td>NaN</td>\n",
       "    </tr>\n",
       "    <tr>\n",
       "      <th>4</th>\n",
       "      <td>Beyond Flavours</td>\n",
       "      <td>Dileep</td>\n",
       "      <td>Food is good.we ordered Kodi drumsticks and ba...</td>\n",
       "      <td>5</td>\n",
       "      <td>3 Reviews , 2 Followers</td>\n",
       "      <td>5/24/2019 21:37</td>\n",
       "      <td>0</td>\n",
       "      <td>NaN</td>\n",
       "    </tr>\n",
       "  </tbody>\n",
       "</table>\n",
       "</div>"
      ]
     },
     "execution_count": 3,
     "metadata": {},
     "output_type": "execute_result"
    }
   ],
   "execution_count": 3
  },
  {
   "metadata": {
    "ExecuteTime": {
     "end_time": "2025-10-15T10:49:48.441808Z",
     "start_time": "2025-10-15T10:49:48.426455Z"
    }
   },
   "cell_type": "code",
   "source": "data.isnull().sum()",
   "id": "547340c4732e9c2c",
   "outputs": [
    {
     "data": {
      "text/plain": [
       "Restaurant       0\n",
       "Reviewer        38\n",
       "Review          45\n",
       "Rating          38\n",
       "Metadata        38\n",
       "Time            38\n",
       "Pictures         0\n",
       "7514          9999\n",
       "dtype: int64"
      ]
     },
     "execution_count": 4,
     "metadata": {},
     "output_type": "execute_result"
    }
   ],
   "execution_count": 4
  },
  {
   "metadata": {
    "ExecuteTime": {
     "end_time": "2025-10-15T10:49:48.621576Z",
     "start_time": "2025-10-15T10:49:48.597894Z"
    }
   },
   "cell_type": "code",
   "source": "data = data[['Restaurant', 'Review', 'Rating']]",
   "id": "825074b9ea976279",
   "outputs": [],
   "execution_count": 5
  },
  {
   "metadata": {
    "ExecuteTime": {
     "end_time": "2025-10-15T10:49:48.658610Z",
     "start_time": "2025-10-15T10:49:48.644943Z"
    }
   },
   "cell_type": "code",
   "source": "data.dropna(subset=['Review', 'Rating'], inplace = True)",
   "id": "6140d97d33f02389",
   "outputs": [],
   "execution_count": 6
  },
  {
   "metadata": {
    "ExecuteTime": {
     "end_time": "2025-10-15T10:49:48.751379Z",
     "start_time": "2025-10-15T10:49:48.676684Z"
    }
   },
   "cell_type": "code",
   "source": "data.info()",
   "id": "9f8e58062c18b931",
   "outputs": [
    {
     "name": "stdout",
     "output_type": "stream",
     "text": [
      "<class 'pandas.core.frame.DataFrame'>\n",
      "Index: 9955 entries, 0 to 9999\n",
      "Data columns (total 3 columns):\n",
      " #   Column      Non-Null Count  Dtype \n",
      "---  ------      --------------  ----- \n",
      " 0   Restaurant  9955 non-null   object\n",
      " 1   Review      9955 non-null   object\n",
      " 2   Rating      9955 non-null   object\n",
      "dtypes: object(3)\n",
      "memory usage: 311.1+ KB\n"
     ]
    }
   ],
   "execution_count": 7
  },
  {
   "metadata": {
    "ExecuteTime": {
     "end_time": "2025-10-15T10:49:48.857943Z",
     "start_time": "2025-10-15T10:49:48.844587Z"
    }
   },
   "cell_type": "code",
   "source": "data.describe",
   "id": "1f1f9002b989c097",
   "outputs": [
    {
     "data": {
      "text/plain": [
       "<bound method NDFrame.describe of             Restaurant                                             Review  \\\n",
       "0      Beyond Flavours  The ambience was good, food was quite good . h...   \n",
       "1      Beyond Flavours  Ambience is too good for a pleasant evening. S...   \n",
       "2      Beyond Flavours  A must try.. great food great ambience. Thnx f...   \n",
       "3      Beyond Flavours  Soumen das and Arun was a great guy. Only beca...   \n",
       "4      Beyond Flavours  Food is good.we ordered Kodi drumsticks and ba...   \n",
       "...                ...                                                ...   \n",
       "9995  Chinese Pavilion  Madhumathi Mahajan Well to start with nice cou...   \n",
       "9996  Chinese Pavilion  This place has never disappointed us.. The foo...   \n",
       "9997  Chinese Pavilion  Bad rating is mainly because of \"Chicken Bone ...   \n",
       "9998  Chinese Pavilion  I personally love and prefer Chinese Food. Had...   \n",
       "9999  Chinese Pavilion  Checked in here to try some delicious chinese ...   \n",
       "\n",
       "     Rating  \n",
       "0         5  \n",
       "1         5  \n",
       "2         5  \n",
       "3         5  \n",
       "4         5  \n",
       "...     ...  \n",
       "9995      3  \n",
       "9996    4.5  \n",
       "9997    1.5  \n",
       "9998      4  \n",
       "9999    3.5  \n",
       "\n",
       "[9955 rows x 3 columns]>"
      ]
     },
     "execution_count": 8,
     "metadata": {},
     "output_type": "execute_result"
    }
   ],
   "execution_count": 8
  },
  {
   "metadata": {
    "ExecuteTime": {
     "end_time": "2025-10-15T10:49:48.991616Z",
     "start_time": "2025-10-15T10:49:48.981580Z"
    }
   },
   "cell_type": "code",
   "source": "data.shape",
   "id": "563c128f0f3d62e9",
   "outputs": [
    {
     "data": {
      "text/plain": [
       "(9955, 3)"
      ]
     },
     "execution_count": 9,
     "metadata": {},
     "output_type": "execute_result"
    }
   ],
   "execution_count": 9
  },
  {
   "metadata": {
    "ExecuteTime": {
     "end_time": "2025-10-15T10:49:49.142670Z",
     "start_time": "2025-10-15T10:49:49.133446Z"
    }
   },
   "cell_type": "code",
   "source": "print(data.columns)",
   "id": "e51a4b76d2f9dc7e",
   "outputs": [
    {
     "name": "stdout",
     "output_type": "stream",
     "text": [
      "Index(['Restaurant', 'Review', 'Rating'], dtype='object')\n"
     ]
    }
   ],
   "execution_count": 10
  },
  {
   "metadata": {
    "ExecuteTime": {
     "end_time": "2025-10-15T10:49:49.336634Z",
     "start_time": "2025-10-15T10:49:49.326029Z"
    }
   },
   "cell_type": "code",
   "source": "data.dtypes",
   "id": "74503c5d72b48a9b",
   "outputs": [
    {
     "data": {
      "text/plain": [
       "Restaurant    object\n",
       "Review        object\n",
       "Rating        object\n",
       "dtype: object"
      ]
     },
     "execution_count": 11,
     "metadata": {},
     "output_type": "execute_result"
    }
   ],
   "execution_count": 11
  },
  {
   "metadata": {
    "ExecuteTime": {
     "end_time": "2025-10-15T10:49:49.483689Z",
     "start_time": "2025-10-15T10:49:49.464235Z"
    }
   },
   "cell_type": "code",
   "source": "data.head(5)",
   "id": "b09388b4d73ad14d",
   "outputs": [
    {
     "data": {
      "text/plain": [
       "        Restaurant                                             Review Rating\n",
       "0  Beyond Flavours  The ambience was good, food was quite good . h...      5\n",
       "1  Beyond Flavours  Ambience is too good for a pleasant evening. S...      5\n",
       "2  Beyond Flavours  A must try.. great food great ambience. Thnx f...      5\n",
       "3  Beyond Flavours  Soumen das and Arun was a great guy. Only beca...      5\n",
       "4  Beyond Flavours  Food is good.we ordered Kodi drumsticks and ba...      5"
      ],
      "text/html": [
       "<div>\n",
       "<style scoped>\n",
       "    .dataframe tbody tr th:only-of-type {\n",
       "        vertical-align: middle;\n",
       "    }\n",
       "\n",
       "    .dataframe tbody tr th {\n",
       "        vertical-align: top;\n",
       "    }\n",
       "\n",
       "    .dataframe thead th {\n",
       "        text-align: right;\n",
       "    }\n",
       "</style>\n",
       "<table border=\"1\" class=\"dataframe\">\n",
       "  <thead>\n",
       "    <tr style=\"text-align: right;\">\n",
       "      <th></th>\n",
       "      <th>Restaurant</th>\n",
       "      <th>Review</th>\n",
       "      <th>Rating</th>\n",
       "    </tr>\n",
       "  </thead>\n",
       "  <tbody>\n",
       "    <tr>\n",
       "      <th>0</th>\n",
       "      <td>Beyond Flavours</td>\n",
       "      <td>The ambience was good, food was quite good . h...</td>\n",
       "      <td>5</td>\n",
       "    </tr>\n",
       "    <tr>\n",
       "      <th>1</th>\n",
       "      <td>Beyond Flavours</td>\n",
       "      <td>Ambience is too good for a pleasant evening. S...</td>\n",
       "      <td>5</td>\n",
       "    </tr>\n",
       "    <tr>\n",
       "      <th>2</th>\n",
       "      <td>Beyond Flavours</td>\n",
       "      <td>A must try.. great food great ambience. Thnx f...</td>\n",
       "      <td>5</td>\n",
       "    </tr>\n",
       "    <tr>\n",
       "      <th>3</th>\n",
       "      <td>Beyond Flavours</td>\n",
       "      <td>Soumen das and Arun was a great guy. Only beca...</td>\n",
       "      <td>5</td>\n",
       "    </tr>\n",
       "    <tr>\n",
       "      <th>4</th>\n",
       "      <td>Beyond Flavours</td>\n",
       "      <td>Food is good.we ordered Kodi drumsticks and ba...</td>\n",
       "      <td>5</td>\n",
       "    </tr>\n",
       "  </tbody>\n",
       "</table>\n",
       "</div>"
      ]
     },
     "execution_count": 12,
     "metadata": {},
     "output_type": "execute_result"
    }
   ],
   "execution_count": 12
  },
  {
   "metadata": {
    "ExecuteTime": {
     "end_time": "2025-10-15T10:49:49.685706Z",
     "start_time": "2025-10-15T10:49:49.666226Z"
    }
   },
   "cell_type": "code",
   "source": "data.reset_index()",
   "id": "1a514df2a8ec8b3d",
   "outputs": [
    {
     "data": {
      "text/plain": [
       "      index        Restaurant  \\\n",
       "0         0   Beyond Flavours   \n",
       "1         1   Beyond Flavours   \n",
       "2         2   Beyond Flavours   \n",
       "3         3   Beyond Flavours   \n",
       "4         4   Beyond Flavours   \n",
       "...     ...               ...   \n",
       "9950   9995  Chinese Pavilion   \n",
       "9951   9996  Chinese Pavilion   \n",
       "9952   9997  Chinese Pavilion   \n",
       "9953   9998  Chinese Pavilion   \n",
       "9954   9999  Chinese Pavilion   \n",
       "\n",
       "                                                 Review Rating  \n",
       "0     The ambience was good, food was quite good . h...      5  \n",
       "1     Ambience is too good for a pleasant evening. S...      5  \n",
       "2     A must try.. great food great ambience. Thnx f...      5  \n",
       "3     Soumen das and Arun was a great guy. Only beca...      5  \n",
       "4     Food is good.we ordered Kodi drumsticks and ba...      5  \n",
       "...                                                 ...    ...  \n",
       "9950  Madhumathi Mahajan Well to start with nice cou...      3  \n",
       "9951  This place has never disappointed us.. The foo...    4.5  \n",
       "9952  Bad rating is mainly because of \"Chicken Bone ...    1.5  \n",
       "9953  I personally love and prefer Chinese Food. Had...      4  \n",
       "9954  Checked in here to try some delicious chinese ...    3.5  \n",
       "\n",
       "[9955 rows x 4 columns]"
      ],
      "text/html": [
       "<div>\n",
       "<style scoped>\n",
       "    .dataframe tbody tr th:only-of-type {\n",
       "        vertical-align: middle;\n",
       "    }\n",
       "\n",
       "    .dataframe tbody tr th {\n",
       "        vertical-align: top;\n",
       "    }\n",
       "\n",
       "    .dataframe thead th {\n",
       "        text-align: right;\n",
       "    }\n",
       "</style>\n",
       "<table border=\"1\" class=\"dataframe\">\n",
       "  <thead>\n",
       "    <tr style=\"text-align: right;\">\n",
       "      <th></th>\n",
       "      <th>index</th>\n",
       "      <th>Restaurant</th>\n",
       "      <th>Review</th>\n",
       "      <th>Rating</th>\n",
       "    </tr>\n",
       "  </thead>\n",
       "  <tbody>\n",
       "    <tr>\n",
       "      <th>0</th>\n",
       "      <td>0</td>\n",
       "      <td>Beyond Flavours</td>\n",
       "      <td>The ambience was good, food was quite good . h...</td>\n",
       "      <td>5</td>\n",
       "    </tr>\n",
       "    <tr>\n",
       "      <th>1</th>\n",
       "      <td>1</td>\n",
       "      <td>Beyond Flavours</td>\n",
       "      <td>Ambience is too good for a pleasant evening. S...</td>\n",
       "      <td>5</td>\n",
       "    </tr>\n",
       "    <tr>\n",
       "      <th>2</th>\n",
       "      <td>2</td>\n",
       "      <td>Beyond Flavours</td>\n",
       "      <td>A must try.. great food great ambience. Thnx f...</td>\n",
       "      <td>5</td>\n",
       "    </tr>\n",
       "    <tr>\n",
       "      <th>3</th>\n",
       "      <td>3</td>\n",
       "      <td>Beyond Flavours</td>\n",
       "      <td>Soumen das and Arun was a great guy. Only beca...</td>\n",
       "      <td>5</td>\n",
       "    </tr>\n",
       "    <tr>\n",
       "      <th>4</th>\n",
       "      <td>4</td>\n",
       "      <td>Beyond Flavours</td>\n",
       "      <td>Food is good.we ordered Kodi drumsticks and ba...</td>\n",
       "      <td>5</td>\n",
       "    </tr>\n",
       "    <tr>\n",
       "      <th>...</th>\n",
       "      <td>...</td>\n",
       "      <td>...</td>\n",
       "      <td>...</td>\n",
       "      <td>...</td>\n",
       "    </tr>\n",
       "    <tr>\n",
       "      <th>9950</th>\n",
       "      <td>9995</td>\n",
       "      <td>Chinese Pavilion</td>\n",
       "      <td>Madhumathi Mahajan Well to start with nice cou...</td>\n",
       "      <td>3</td>\n",
       "    </tr>\n",
       "    <tr>\n",
       "      <th>9951</th>\n",
       "      <td>9996</td>\n",
       "      <td>Chinese Pavilion</td>\n",
       "      <td>This place has never disappointed us.. The foo...</td>\n",
       "      <td>4.5</td>\n",
       "    </tr>\n",
       "    <tr>\n",
       "      <th>9952</th>\n",
       "      <td>9997</td>\n",
       "      <td>Chinese Pavilion</td>\n",
       "      <td>Bad rating is mainly because of \"Chicken Bone ...</td>\n",
       "      <td>1.5</td>\n",
       "    </tr>\n",
       "    <tr>\n",
       "      <th>9953</th>\n",
       "      <td>9998</td>\n",
       "      <td>Chinese Pavilion</td>\n",
       "      <td>I personally love and prefer Chinese Food. Had...</td>\n",
       "      <td>4</td>\n",
       "    </tr>\n",
       "    <tr>\n",
       "      <th>9954</th>\n",
       "      <td>9999</td>\n",
       "      <td>Chinese Pavilion</td>\n",
       "      <td>Checked in here to try some delicious chinese ...</td>\n",
       "      <td>3.5</td>\n",
       "    </tr>\n",
       "  </tbody>\n",
       "</table>\n",
       "<p>9955 rows × 4 columns</p>\n",
       "</div>"
      ]
     },
     "execution_count": 13,
     "metadata": {},
     "output_type": "execute_result"
    }
   ],
   "execution_count": 13
  },
  {
   "metadata": {
    "ExecuteTime": {
     "end_time": "2025-10-15T10:49:49.866532Z",
     "start_time": "2025-10-15T10:49:49.855792Z"
    }
   },
   "cell_type": "code",
   "source": [
    "print(data.isnull().sum())\n",
    "print(data.shape)"
   ],
   "id": "feb393c60de2190d",
   "outputs": [
    {
     "name": "stdout",
     "output_type": "stream",
     "text": [
      "Restaurant    0\n",
      "Review        0\n",
      "Rating        0\n",
      "dtype: int64\n",
      "(9955, 3)\n"
     ]
    }
   ],
   "execution_count": 14
  },
  {
   "metadata": {
    "ExecuteTime": {
     "end_time": "2025-10-15T10:49:50.087865Z",
     "start_time": "2025-10-15T10:49:50.070701Z"
    }
   },
   "cell_type": "code",
   "source": "data['Rating'].value_counts()",
   "id": "a58abef9bd9c350f",
   "outputs": [
    {
     "data": {
      "text/plain": [
       "Rating\n",
       "5       3826\n",
       "4       2373\n",
       "1       1735\n",
       "3       1192\n",
       "2        684\n",
       "4.5       69\n",
       "3.5       47\n",
       "2.5       19\n",
       "1.5        9\n",
       "Like       1\n",
       "Name: count, dtype: int64"
      ]
     },
     "execution_count": 15,
     "metadata": {},
     "output_type": "execute_result"
    }
   ],
   "execution_count": 15
  },
  {
   "metadata": {
    "ExecuteTime": {
     "end_time": "2025-10-15T10:49:50.234375Z",
     "start_time": "2025-10-15T10:49:50.214931Z"
    }
   },
   "cell_type": "code",
   "source": "data['char_count'] = data['Review'].apply(len)",
   "id": "6db4ca2bd1b2828f",
   "outputs": [],
   "execution_count": 16
  },
  {
   "metadata": {
    "ExecuteTime": {
     "end_time": "2025-10-15T10:49:50.302918Z",
     "start_time": "2025-10-15T10:49:50.261502Z"
    }
   },
   "cell_type": "code",
   "source": "data.head()",
   "id": "99e1e3912b95f1e",
   "outputs": [
    {
     "data": {
      "text/plain": [
       "        Restaurant                                             Review Rating  \\\n",
       "0  Beyond Flavours  The ambience was good, food was quite good . h...      5   \n",
       "1  Beyond Flavours  Ambience is too good for a pleasant evening. S...      5   \n",
       "2  Beyond Flavours  A must try.. great food great ambience. Thnx f...      5   \n",
       "3  Beyond Flavours  Soumen das and Arun was a great guy. Only beca...      5   \n",
       "4  Beyond Flavours  Food is good.we ordered Kodi drumsticks and ba...      5   \n",
       "\n",
       "   char_count  \n",
       "0         222  \n",
       "1         144  \n",
       "2         189  \n",
       "3         148  \n",
       "4         160  "
      ],
      "text/html": [
       "<div>\n",
       "<style scoped>\n",
       "    .dataframe tbody tr th:only-of-type {\n",
       "        vertical-align: middle;\n",
       "    }\n",
       "\n",
       "    .dataframe tbody tr th {\n",
       "        vertical-align: top;\n",
       "    }\n",
       "\n",
       "    .dataframe thead th {\n",
       "        text-align: right;\n",
       "    }\n",
       "</style>\n",
       "<table border=\"1\" class=\"dataframe\">\n",
       "  <thead>\n",
       "    <tr style=\"text-align: right;\">\n",
       "      <th></th>\n",
       "      <th>Restaurant</th>\n",
       "      <th>Review</th>\n",
       "      <th>Rating</th>\n",
       "      <th>char_count</th>\n",
       "    </tr>\n",
       "  </thead>\n",
       "  <tbody>\n",
       "    <tr>\n",
       "      <th>0</th>\n",
       "      <td>Beyond Flavours</td>\n",
       "      <td>The ambience was good, food was quite good . h...</td>\n",
       "      <td>5</td>\n",
       "      <td>222</td>\n",
       "    </tr>\n",
       "    <tr>\n",
       "      <th>1</th>\n",
       "      <td>Beyond Flavours</td>\n",
       "      <td>Ambience is too good for a pleasant evening. S...</td>\n",
       "      <td>5</td>\n",
       "      <td>144</td>\n",
       "    </tr>\n",
       "    <tr>\n",
       "      <th>2</th>\n",
       "      <td>Beyond Flavours</td>\n",
       "      <td>A must try.. great food great ambience. Thnx f...</td>\n",
       "      <td>5</td>\n",
       "      <td>189</td>\n",
       "    </tr>\n",
       "    <tr>\n",
       "      <th>3</th>\n",
       "      <td>Beyond Flavours</td>\n",
       "      <td>Soumen das and Arun was a great guy. Only beca...</td>\n",
       "      <td>5</td>\n",
       "      <td>148</td>\n",
       "    </tr>\n",
       "    <tr>\n",
       "      <th>4</th>\n",
       "      <td>Beyond Flavours</td>\n",
       "      <td>Food is good.we ordered Kodi drumsticks and ba...</td>\n",
       "      <td>5</td>\n",
       "      <td>160</td>\n",
       "    </tr>\n",
       "  </tbody>\n",
       "</table>\n",
       "</div>"
      ]
     },
     "execution_count": 17,
     "metadata": {},
     "output_type": "execute_result"
    }
   ],
   "execution_count": 17
  },
  {
   "metadata": {
    "ExecuteTime": {
     "end_time": "2025-10-15T10:49:50.488308Z",
     "start_time": "2025-10-15T10:49:50.406735Z"
    }
   },
   "cell_type": "code",
   "source": "data['word_count'] = data['Review'].apply(lambda x: len(str(x).split()))",
   "id": "95955844324edfc",
   "outputs": [],
   "execution_count": 18
  },
  {
   "metadata": {
    "ExecuteTime": {
     "end_time": "2025-10-15T10:50:00.903301Z",
     "start_time": "2025-10-15T10:49:50.512397Z"
    }
   },
   "cell_type": "code",
   "source": [
    "import nltk\n",
    "nltk.download('punkt')"
   ],
   "id": "9e3bf31d418c6090",
   "outputs": [
    {
     "name": "stderr",
     "output_type": "stream",
     "text": [
      "[nltk_data] Downloading package punkt to\n",
      "[nltk_data]     C:\\Users\\DELL\\AppData\\Roaming\\nltk_data...\n",
      "[nltk_data]   Package punkt is already up-to-date!\n"
     ]
    },
    {
     "data": {
      "text/plain": [
       "True"
      ]
     },
     "execution_count": 19,
     "metadata": {},
     "output_type": "execute_result"
    }
   ],
   "execution_count": 19
  },
  {
   "metadata": {
    "ExecuteTime": {
     "end_time": "2025-10-15T10:50:02.521194Z",
     "start_time": "2025-10-15T10:50:00.971939Z"
    }
   },
   "cell_type": "code",
   "source": "data['sent_count'] = data['Review'].apply(lambda x: len(nltk.sent_tokenize(str(x))))",
   "id": "68f6be89533acefd",
   "outputs": [],
   "execution_count": 20
  },
  {
   "metadata": {
    "ExecuteTime": {
     "end_time": "2025-10-15T10:50:02.545531Z",
     "start_time": "2025-10-15T10:50:02.535889Z"
    }
   },
   "cell_type": "code",
   "source": "data.dropna(subset=['Rating'], inplace = True)",
   "id": "1ea30efd355ef5e3",
   "outputs": [],
   "execution_count": 21
  },
  {
   "metadata": {
    "ExecuteTime": {
     "end_time": "2025-10-15T10:50:02.580948Z",
     "start_time": "2025-10-15T10:50:02.559187Z"
    }
   },
   "cell_type": "code",
   "source": [
    "data['Rating'] = pd.to_numeric(data['Rating'], errors = 'coerce')\n",
    "\n",
    "data.dropna(subset = ['Rating'], inplace = True)"
   ],
   "id": "2f2482e3e5ba33fd",
   "outputs": [],
   "execution_count": 22
  },
  {
   "metadata": {
    "ExecuteTime": {
     "end_time": "2025-10-15T10:50:02.609707Z",
     "start_time": "2025-10-15T10:50:02.597640Z"
    }
   },
   "cell_type": "code",
   "source": "data['Rating'].unique()",
   "id": "8590123c84dba1d2",
   "outputs": [
    {
     "data": {
      "text/plain": [
       "array([5. , 4. , 1. , 3. , 2. , 3.5, 4.5, 2.5, 1.5])"
      ]
     },
     "execution_count": 23,
     "metadata": {},
     "output_type": "execute_result"
    }
   ],
   "execution_count": 23
  },
  {
   "metadata": {
    "ExecuteTime": {
     "end_time": "2025-10-15T10:50:02.695716Z",
     "start_time": "2025-10-15T10:50:02.673704Z"
    }
   },
   "cell_type": "code",
   "source": "data",
   "id": "f595391aa9a45aae",
   "outputs": [
    {
     "data": {
      "text/plain": [
       "            Restaurant                                             Review  \\\n",
       "0      Beyond Flavours  The ambience was good, food was quite good . h...   \n",
       "1      Beyond Flavours  Ambience is too good for a pleasant evening. S...   \n",
       "2      Beyond Flavours  A must try.. great food great ambience. Thnx f...   \n",
       "3      Beyond Flavours  Soumen das and Arun was a great guy. Only beca...   \n",
       "4      Beyond Flavours  Food is good.we ordered Kodi drumsticks and ba...   \n",
       "...                ...                                                ...   \n",
       "9995  Chinese Pavilion  Madhumathi Mahajan Well to start with nice cou...   \n",
       "9996  Chinese Pavilion  This place has never disappointed us.. The foo...   \n",
       "9997  Chinese Pavilion  Bad rating is mainly because of \"Chicken Bone ...   \n",
       "9998  Chinese Pavilion  I personally love and prefer Chinese Food. Had...   \n",
       "9999  Chinese Pavilion  Checked in here to try some delicious chinese ...   \n",
       "\n",
       "      Rating  char_count  word_count  sent_count  \n",
       "0        5.0         222          41           5  \n",
       "1        5.0         144          27           5  \n",
       "2        5.0         189          31           3  \n",
       "3        5.0         148          28           2  \n",
       "4        5.0         160          27           6  \n",
       "...      ...         ...         ...         ...  \n",
       "9995     3.0        1024         192          13  \n",
       "9996     4.5         320          52           5  \n",
       "9997     1.5        1555         280          10  \n",
       "9998     4.0         511          88           7  \n",
       "9999     3.5         517          87           6  \n",
       "\n",
       "[9954 rows x 6 columns]"
      ],
      "text/html": [
       "<div>\n",
       "<style scoped>\n",
       "    .dataframe tbody tr th:only-of-type {\n",
       "        vertical-align: middle;\n",
       "    }\n",
       "\n",
       "    .dataframe tbody tr th {\n",
       "        vertical-align: top;\n",
       "    }\n",
       "\n",
       "    .dataframe thead th {\n",
       "        text-align: right;\n",
       "    }\n",
       "</style>\n",
       "<table border=\"1\" class=\"dataframe\">\n",
       "  <thead>\n",
       "    <tr style=\"text-align: right;\">\n",
       "      <th></th>\n",
       "      <th>Restaurant</th>\n",
       "      <th>Review</th>\n",
       "      <th>Rating</th>\n",
       "      <th>char_count</th>\n",
       "      <th>word_count</th>\n",
       "      <th>sent_count</th>\n",
       "    </tr>\n",
       "  </thead>\n",
       "  <tbody>\n",
       "    <tr>\n",
       "      <th>0</th>\n",
       "      <td>Beyond Flavours</td>\n",
       "      <td>The ambience was good, food was quite good . h...</td>\n",
       "      <td>5.0</td>\n",
       "      <td>222</td>\n",
       "      <td>41</td>\n",
       "      <td>5</td>\n",
       "    </tr>\n",
       "    <tr>\n",
       "      <th>1</th>\n",
       "      <td>Beyond Flavours</td>\n",
       "      <td>Ambience is too good for a pleasant evening. S...</td>\n",
       "      <td>5.0</td>\n",
       "      <td>144</td>\n",
       "      <td>27</td>\n",
       "      <td>5</td>\n",
       "    </tr>\n",
       "    <tr>\n",
       "      <th>2</th>\n",
       "      <td>Beyond Flavours</td>\n",
       "      <td>A must try.. great food great ambience. Thnx f...</td>\n",
       "      <td>5.0</td>\n",
       "      <td>189</td>\n",
       "      <td>31</td>\n",
       "      <td>3</td>\n",
       "    </tr>\n",
       "    <tr>\n",
       "      <th>3</th>\n",
       "      <td>Beyond Flavours</td>\n",
       "      <td>Soumen das and Arun was a great guy. Only beca...</td>\n",
       "      <td>5.0</td>\n",
       "      <td>148</td>\n",
       "      <td>28</td>\n",
       "      <td>2</td>\n",
       "    </tr>\n",
       "    <tr>\n",
       "      <th>4</th>\n",
       "      <td>Beyond Flavours</td>\n",
       "      <td>Food is good.we ordered Kodi drumsticks and ba...</td>\n",
       "      <td>5.0</td>\n",
       "      <td>160</td>\n",
       "      <td>27</td>\n",
       "      <td>6</td>\n",
       "    </tr>\n",
       "    <tr>\n",
       "      <th>...</th>\n",
       "      <td>...</td>\n",
       "      <td>...</td>\n",
       "      <td>...</td>\n",
       "      <td>...</td>\n",
       "      <td>...</td>\n",
       "      <td>...</td>\n",
       "    </tr>\n",
       "    <tr>\n",
       "      <th>9995</th>\n",
       "      <td>Chinese Pavilion</td>\n",
       "      <td>Madhumathi Mahajan Well to start with nice cou...</td>\n",
       "      <td>3.0</td>\n",
       "      <td>1024</td>\n",
       "      <td>192</td>\n",
       "      <td>13</td>\n",
       "    </tr>\n",
       "    <tr>\n",
       "      <th>9996</th>\n",
       "      <td>Chinese Pavilion</td>\n",
       "      <td>This place has never disappointed us.. The foo...</td>\n",
       "      <td>4.5</td>\n",
       "      <td>320</td>\n",
       "      <td>52</td>\n",
       "      <td>5</td>\n",
       "    </tr>\n",
       "    <tr>\n",
       "      <th>9997</th>\n",
       "      <td>Chinese Pavilion</td>\n",
       "      <td>Bad rating is mainly because of \"Chicken Bone ...</td>\n",
       "      <td>1.5</td>\n",
       "      <td>1555</td>\n",
       "      <td>280</td>\n",
       "      <td>10</td>\n",
       "    </tr>\n",
       "    <tr>\n",
       "      <th>9998</th>\n",
       "      <td>Chinese Pavilion</td>\n",
       "      <td>I personally love and prefer Chinese Food. Had...</td>\n",
       "      <td>4.0</td>\n",
       "      <td>511</td>\n",
       "      <td>88</td>\n",
       "      <td>7</td>\n",
       "    </tr>\n",
       "    <tr>\n",
       "      <th>9999</th>\n",
       "      <td>Chinese Pavilion</td>\n",
       "      <td>Checked in here to try some delicious chinese ...</td>\n",
       "      <td>3.5</td>\n",
       "      <td>517</td>\n",
       "      <td>87</td>\n",
       "      <td>6</td>\n",
       "    </tr>\n",
       "  </tbody>\n",
       "</table>\n",
       "<p>9954 rows × 6 columns</p>\n",
       "</div>"
      ]
     },
     "execution_count": 24,
     "metadata": {},
     "output_type": "execute_result"
    }
   ],
   "execution_count": 24
  },
  {
   "metadata": {
    "ExecuteTime": {
     "end_time": "2025-10-15T10:50:02.816438Z",
     "start_time": "2025-10-15T10:50:02.810614Z"
    }
   },
   "cell_type": "code",
   "source": [
    "def classify_rating(r):\n",
    "    if r <= 2:\n",
    "        return \"Negative\"\n",
    "    elif r<=3.5:\n",
    "        return \"Neutral\"\n",
    "    else:\n",
    "        return \"Positive\""
   ],
   "id": "7271ecdf073b87ca",
   "outputs": [],
   "execution_count": 25
  },
  {
   "metadata": {
    "ExecuteTime": {
     "end_time": "2025-10-15T10:50:02.872501Z",
     "start_time": "2025-10-15T10:50:02.850873Z"
    }
   },
   "cell_type": "code",
   "source": "data['Sentiment'] = data['Rating'].apply(classify_rating)",
   "id": "6c8b9d3d30528d1c",
   "outputs": [],
   "execution_count": 26
  },
  {
   "metadata": {
    "ExecuteTime": {
     "end_time": "2025-10-15T10:50:02.902696Z",
     "start_time": "2025-10-15T10:50:02.889599Z"
    }
   },
   "cell_type": "code",
   "source": "data['Sentiment'].value_counts()",
   "id": "4aa199738cebc56c",
   "outputs": [
    {
     "data": {
      "text/plain": [
       "Sentiment\n",
       "Positive    6268\n",
       "Negative    2428\n",
       "Neutral     1258\n",
       "Name: count, dtype: int64"
      ]
     },
     "execution_count": 27,
     "metadata": {},
     "output_type": "execute_result"
    }
   ],
   "execution_count": 27
  },
  {
   "metadata": {
    "ExecuteTime": {
     "end_time": "2025-10-15T10:50:02.961618Z",
     "start_time": "2025-10-15T10:50:02.954931Z"
    }
   },
   "cell_type": "code",
   "source": [
    "import re\n",
    "review = re.sub('[^a-zA-Z]', ' ', data['Review'][0])"
   ],
   "id": "5d5a52095faf9d01",
   "outputs": [],
   "execution_count": 28
  },
  {
   "metadata": {
    "ExecuteTime": {
     "end_time": "2025-10-15T10:50:03.022039Z",
     "start_time": "2025-10-15T10:50:03.014101Z"
    }
   },
   "cell_type": "code",
   "source": "review = review.lower()",
   "id": "27b4061ba40a1c74",
   "outputs": [],
   "execution_count": 29
  },
  {
   "metadata": {
    "ExecuteTime": {
     "end_time": "2025-10-15T10:50:03.049795Z",
     "start_time": "2025-10-15T10:50:03.036598Z"
    }
   },
   "cell_type": "code",
   "source": [
    "from nltk.corpus import stopwords\n",
    "all_stopwords = stopwords.words(\"english\")\n",
    "all_stopwords.remove('not')\n",
    "review = [word for word in review if word not in set (all_stopwords)]"
   ],
   "id": "6e7f9366a3ff8226",
   "outputs": [],
   "execution_count": 30
  },
  {
   "metadata": {
    "ExecuteTime": {
     "end_time": "2025-10-15T10:50:03.076456Z",
     "start_time": "2025-10-15T10:50:03.066754Z"
    }
   },
   "cell_type": "code",
   "source": "review",
   "id": "2721046d6930fbe",
   "outputs": [
    {
     "data": {
      "text/plain": [
       "['h',\n",
       " 'e',\n",
       " ' ',\n",
       " 'b',\n",
       " 'e',\n",
       " 'n',\n",
       " 'c',\n",
       " 'e',\n",
       " ' ',\n",
       " 'w',\n",
       " ' ',\n",
       " 'g',\n",
       " ' ',\n",
       " ' ',\n",
       " 'f',\n",
       " ' ',\n",
       " 'w',\n",
       " ' ',\n",
       " 'q',\n",
       " 'u',\n",
       " 'e',\n",
       " ' ',\n",
       " 'g',\n",
       " ' ',\n",
       " ' ',\n",
       " ' ',\n",
       " 'h',\n",
       " ' ',\n",
       " 'u',\n",
       " 'r',\n",
       " ' ',\n",
       " 'l',\n",
       " 'u',\n",
       " 'n',\n",
       " 'c',\n",
       " 'h',\n",
       " ' ',\n",
       " ' ',\n",
       " ' ',\n",
       " 'w',\n",
       " 'h',\n",
       " 'c',\n",
       " 'h',\n",
       " ' ',\n",
       " 'w',\n",
       " ' ',\n",
       " 'c',\n",
       " ' ',\n",
       " 'e',\n",
       " 'f',\n",
       " 'f',\n",
       " 'e',\n",
       " 'c',\n",
       " 'v',\n",
       " 'e',\n",
       " ' ',\n",
       " ' ',\n",
       " ' ',\n",
       " 'g',\n",
       " ' ',\n",
       " 'p',\n",
       " 'l',\n",
       " 'c',\n",
       " 'e',\n",
       " ' ',\n",
       " 'f',\n",
       " 'r',\n",
       " ' ',\n",
       " ' ',\n",
       " 'e',\n",
       " ' ',\n",
       " 'b',\n",
       " 'r',\n",
       " 'u',\n",
       " 'n',\n",
       " 'c',\n",
       " 'h',\n",
       " ' ',\n",
       " ' ',\n",
       " 'n',\n",
       " 'e',\n",
       " ' ',\n",
       " 'c',\n",
       " 'n',\n",
       " ' ',\n",
       " 'l',\n",
       " ' ',\n",
       " 'c',\n",
       " 'h',\n",
       " 'l',\n",
       " 'l',\n",
       " ' ',\n",
       " 'w',\n",
       " 'h',\n",
       " ' ',\n",
       " 'f',\n",
       " 'r',\n",
       " 'e',\n",
       " 'n',\n",
       " ' ',\n",
       " 'n',\n",
       " ' ',\n",
       " 'r',\n",
       " ' ',\n",
       " 'p',\n",
       " 'r',\n",
       " 'e',\n",
       " 'n',\n",
       " ' ',\n",
       " ' ',\n",
       " 'w',\n",
       " 'e',\n",
       " 'r',\n",
       " ' ',\n",
       " 'u',\n",
       " 'e',\n",
       " 'n',\n",
       " ' ',\n",
       " ' ',\n",
       " 'w',\n",
       " ' ',\n",
       " 'r',\n",
       " 'e',\n",
       " 'l',\n",
       " 'l',\n",
       " ' ',\n",
       " 'c',\n",
       " 'u',\n",
       " 'r',\n",
       " 'e',\n",
       " 'u',\n",
       " ' ',\n",
       " 'n',\n",
       " ' ',\n",
       " 'h',\n",
       " 'e',\n",
       " 'l',\n",
       " 'p',\n",
       " 'f',\n",
       " 'u',\n",
       " 'l',\n",
       " ' ']"
      ]
     },
     "execution_count": 31,
     "metadata": {},
     "output_type": "execute_result"
    }
   ],
   "execution_count": 31
  },
  {
   "metadata": {
    "ExecuteTime": {
     "end_time": "2025-10-15T10:50:03.176987Z",
     "start_time": "2025-10-15T10:50:03.168931Z"
    }
   },
   "cell_type": "code",
   "source": [
    "from nltk.stem.porter import PorterStemmer\n",
    "ps = PorterStemmer()\n",
    "review = [ps.stem(word) for word in review]\n",
    "review = \" \".join(review)"
   ],
   "id": "c1aac71c65bc9b00",
   "outputs": [],
   "execution_count": 32
  },
  {
   "metadata": {
    "ExecuteTime": {
     "end_time": "2025-10-15T10:50:03.213811Z",
     "start_time": "2025-10-15T10:50:03.196586Z"
    }
   },
   "cell_type": "code",
   "source": "review",
   "id": "71b0553374de95a8",
   "outputs": [
    {
     "data": {
      "text/plain": [
       "'h e   b e n c e   w   g     f   w   q u e   g       h   u r   l u n c h       w h c h   w   c   e f f e c v e       g   p l c e   f r     e   b r u n c h     n e   c n   l   c h l l   w h   f r e n   n   r   p r e n     w e r   u e n     w   r e l l   c u r e u   n   h e l p f u l  '"
      ]
     },
     "execution_count": 33,
     "metadata": {},
     "output_type": "execute_result"
    }
   ],
   "execution_count": 33
  },
  {
   "metadata": {
    "ExecuteTime": {
     "end_time": "2025-10-15T10:50:03.277021Z",
     "start_time": "2025-10-15T10:50:03.263091Z"
    }
   },
   "cell_type": "code",
   "source": [
    "import re\n",
    "custom_stopwords = {'a',\n",
    " 'about',\n",
    " 'above',\n",
    " 'after',\n",
    " 'again',\n",
    " 'against',\n",
    " 'ain',\n",
    " 'all',\n",
    " 'am',\n",
    " 'an',\n",
    " 'and',\n",
    " 'any',\n",
    " 'are',\n",
    " 'aren',\n",
    " \"aren't\",\n",
    " 'as',\n",
    " 'at',\n",
    " 'be',\n",
    " 'because',\n",
    " 'been',\n",
    " 'before',\n",
    " 'being',\n",
    " 'below',\n",
    " 'between',\n",
    " 'both',\n",
    " 'but',\n",
    " 'by',\n",
    " 'can',\n",
    " 'couldn',\n",
    " \"couldn't\",\n",
    " 'd',\n",
    " 'did',\n",
    " 'didn',\n",
    " \"didn't\",\n",
    " 'do',\n",
    " 'does',\n",
    " 'doesn',\n",
    " \"doesn't\",\n",
    " 'doing',\n",
    " 'don',\n",
    " \"don't\",\n",
    " 'down',\n",
    " 'during',\n",
    " 'each',\n",
    " 'few',\n",
    " 'for',\n",
    " 'from',\n",
    " 'further',\n",
    " 'had',\n",
    " 'hadn',\n",
    " \"hadn't\",\n",
    " 'has',\n",
    " 'hasn',\n",
    " \"hasn't\",\n",
    " 'have',\n",
    " 'haven',\n",
    " \"haven't\",\n",
    " 'having',\n",
    " 'he',\n",
    " \"he'd\",\n",
    " \"he'll\",\n",
    " 'her',\n",
    " 'here',\n",
    " 'hers',\n",
    " 'herself',\n",
    " \"he's\",\n",
    " 'him',\n",
    " 'himself',\n",
    " 'his',\n",
    " 'how',\n",
    " 'i',\n",
    " \"i'd\",\n",
    " 'if',\n",
    " \"i'll\",\n",
    " \"i'm\",\n",
    " 'in',\n",
    " 'into',\n",
    " 'is',\n",
    " 'isn',\n",
    " \"isn't\",\n",
    " 'it',\n",
    " \"it'd\",\n",
    " \"it'll\",\n",
    " \"it's\",\n",
    " 'its',\n",
    " 'itself',\n",
    " \"i've\",\n",
    " 'just',\n",
    " 'll',\n",
    " 'm',\n",
    " 'ma',\n",
    " 'me',\n",
    " 'mightn',\n",
    " \"mightn't\",\n",
    " 'more',\n",
    " 'most',\n",
    " 'mustn',\n",
    " \"mustn't\",\n",
    " 'my',\n",
    " 'myself',\n",
    " 'needn',\n",
    " \"needn't\",\n",
    " 'no',\n",
    " 'nor',\n",
    " 'now',\n",
    " 'o',\n",
    " 'of',\n",
    " 'off',\n",
    " 'on',\n",
    " 'once',\n",
    " 'only',\n",
    " 'or',\n",
    " 'other',\n",
    " 'our',\n",
    " 'ours',\n",
    " 'ourselves',\n",
    " 'out',\n",
    " 'over',\n",
    " 'own',\n",
    " 're',\n",
    " 's',\n",
    " 'same',\n",
    " 'shan',\n",
    " \"shan't\",\n",
    " 'she',\n",
    " \"she'd\",\n",
    " \"she'll\",\n",
    " \"she's\",\n",
    " 'should',\n",
    " 'shouldn',\n",
    " \"shouldn't\",\n",
    " \"should've\",\n",
    " 'so',\n",
    " 'some',\n",
    " 'such',\n",
    " 't',\n",
    " 'than',\n",
    " 'that',\n",
    " \"that'll\",\n",
    " 'the',\n",
    " 'their',\n",
    " 'theirs',\n",
    " 'them',\n",
    " 'themselves',\n",
    " 'then',\n",
    " 'there',\n",
    " 'these',\n",
    " 'they',\n",
    " \"they'd\",\n",
    " \"they'll\",\n",
    " \"they're\",\n",
    " \"they've\",\n",
    " 'this',\n",
    " 'those',\n",
    " 'through',\n",
    " 'to',\n",
    " 'too',\n",
    " 'under',\n",
    " 'until',\n",
    " 'up',\n",
    " 've',\n",
    " 'very',\n",
    " 'was',\n",
    " 'wasn',\n",
    " \"wasn't\",\n",
    " 'we',\n",
    " \"we'd\",\n",
    " \"we'll\",\n",
    " \"we're\",\n",
    " 'were',\n",
    " 'weren',\n",
    " \"weren't\",\n",
    " \"we've\",\n",
    " 'what',\n",
    " 'when',\n",
    " 'where',\n",
    " 'which',\n",
    " 'while',\n",
    " 'who',\n",
    " 'whom',\n",
    " 'why',\n",
    " 'will',\n",
    " 'with',\n",
    " 'won',\n",
    " \"won't\",\n",
    " 'wouldn',\n",
    " \"wouldn't\",\n",
    " 'y',\n",
    " 'you',\n",
    " \"you'd\",\n",
    " \"you'll\",\n",
    " 'your',\n",
    " \"you're\",\n",
    " 'yours',\n",
    " 'yourself',\n",
    " 'yourselves',\n",
    " \"you've\"}\n",
    "\n",
    "corpus = []\n",
    "ps = PorterStemmer()\n",
    "nltk_stopwords = set(stopwords.words(\"english\")) - custom_stopwords"
   ],
   "id": "911556fcdf6f905",
   "outputs": [],
   "execution_count": 34
  },
  {
   "metadata": {
    "ExecuteTime": {
     "end_time": "2025-10-15T10:50:03.330677Z",
     "start_time": "2025-10-15T10:50:03.323755Z"
    }
   },
   "cell_type": "code",
   "source": "data.reset_index(drop = True, inplace = True)",
   "id": "b3b44dc541618c33",
   "outputs": [],
   "execution_count": 35
  },
  {
   "metadata": {
    "ExecuteTime": {
     "end_time": "2025-10-15T10:50:10.312525Z",
     "start_time": "2025-10-15T10:50:03.352300Z"
    }
   },
   "cell_type": "code",
   "source": [
    "for i in range (len(data)):\n",
    "    review = re.sub('[^a-zA-Z]', ' ', data['Review'][i])\n",
    "    review = review.lower()\n",
    "    review = review.split()\n",
    "    review = [ps.stem(word) for word in review if word not in custom_stopwords]\n",
    "    review = \" \".join(review)\n",
    "    corpus.append(review)"
   ],
   "id": "cc2a7a08a819e704",
   "outputs": [],
   "execution_count": 36
  },
  {
   "metadata": {
    "ExecuteTime": {
     "end_time": "2025-10-15T10:50:10.334609Z",
     "start_time": "2025-10-15T10:50:10.324592Z"
    }
   },
   "cell_type": "code",
   "source": "data['processed_text'] = corpus",
   "id": "8c77bfef7c262998",
   "outputs": [],
   "execution_count": 37
  },
  {
   "metadata": {
    "ExecuteTime": {
     "end_time": "2025-10-15T10:50:10.474341Z",
     "start_time": "2025-10-15T10:50:10.351239Z"
    }
   },
   "cell_type": "code",
   "source": "data.head()",
   "id": "a4f8dab1712251bc",
   "outputs": [
    {
     "data": {
      "text/plain": [
       "        Restaurant                                             Review  Rating  \\\n",
       "0  Beyond Flavours  The ambience was good, food was quite good . h...     5.0   \n",
       "1  Beyond Flavours  Ambience is too good for a pleasant evening. S...     5.0   \n",
       "2  Beyond Flavours  A must try.. great food great ambience. Thnx f...     5.0   \n",
       "3  Beyond Flavours  Soumen das and Arun was a great guy. Only beca...     5.0   \n",
       "4  Beyond Flavours  Food is good.we ordered Kodi drumsticks and ba...     5.0   \n",
       "\n",
       "   char_count  word_count  sent_count Sentiment  \\\n",
       "0         222          41           5  Positive   \n",
       "1         144          27           5  Positive   \n",
       "2         189          31           3  Positive   \n",
       "3         148          28           2  Positive   \n",
       "4         160          27           6  Positive   \n",
       "\n",
       "                                      processed_text  \n",
       "0  ambienc good food quit good saturday lunch cos...  \n",
       "1  ambienc good pleasant even servic prompt food ...  \n",
       "2  must tri great food great ambienc thnx servic ...  \n",
       "3  soumen da arun great guy behavior sincereti go...  \n",
       "4  food good order kodi drumstick basket mutton b...  "
      ],
      "text/html": [
       "<div>\n",
       "<style scoped>\n",
       "    .dataframe tbody tr th:only-of-type {\n",
       "        vertical-align: middle;\n",
       "    }\n",
       "\n",
       "    .dataframe tbody tr th {\n",
       "        vertical-align: top;\n",
       "    }\n",
       "\n",
       "    .dataframe thead th {\n",
       "        text-align: right;\n",
       "    }\n",
       "</style>\n",
       "<table border=\"1\" class=\"dataframe\">\n",
       "  <thead>\n",
       "    <tr style=\"text-align: right;\">\n",
       "      <th></th>\n",
       "      <th>Restaurant</th>\n",
       "      <th>Review</th>\n",
       "      <th>Rating</th>\n",
       "      <th>char_count</th>\n",
       "      <th>word_count</th>\n",
       "      <th>sent_count</th>\n",
       "      <th>Sentiment</th>\n",
       "      <th>processed_text</th>\n",
       "    </tr>\n",
       "  </thead>\n",
       "  <tbody>\n",
       "    <tr>\n",
       "      <th>0</th>\n",
       "      <td>Beyond Flavours</td>\n",
       "      <td>The ambience was good, food was quite good . h...</td>\n",
       "      <td>5.0</td>\n",
       "      <td>222</td>\n",
       "      <td>41</td>\n",
       "      <td>5</td>\n",
       "      <td>Positive</td>\n",
       "      <td>ambienc good food quit good saturday lunch cos...</td>\n",
       "    </tr>\n",
       "    <tr>\n",
       "      <th>1</th>\n",
       "      <td>Beyond Flavours</td>\n",
       "      <td>Ambience is too good for a pleasant evening. S...</td>\n",
       "      <td>5.0</td>\n",
       "      <td>144</td>\n",
       "      <td>27</td>\n",
       "      <td>5</td>\n",
       "      <td>Positive</td>\n",
       "      <td>ambienc good pleasant even servic prompt food ...</td>\n",
       "    </tr>\n",
       "    <tr>\n",
       "      <th>2</th>\n",
       "      <td>Beyond Flavours</td>\n",
       "      <td>A must try.. great food great ambience. Thnx f...</td>\n",
       "      <td>5.0</td>\n",
       "      <td>189</td>\n",
       "      <td>31</td>\n",
       "      <td>3</td>\n",
       "      <td>Positive</td>\n",
       "      <td>must tri great food great ambienc thnx servic ...</td>\n",
       "    </tr>\n",
       "    <tr>\n",
       "      <th>3</th>\n",
       "      <td>Beyond Flavours</td>\n",
       "      <td>Soumen das and Arun was a great guy. Only beca...</td>\n",
       "      <td>5.0</td>\n",
       "      <td>148</td>\n",
       "      <td>28</td>\n",
       "      <td>2</td>\n",
       "      <td>Positive</td>\n",
       "      <td>soumen da arun great guy behavior sincereti go...</td>\n",
       "    </tr>\n",
       "    <tr>\n",
       "      <th>4</th>\n",
       "      <td>Beyond Flavours</td>\n",
       "      <td>Food is good.we ordered Kodi drumsticks and ba...</td>\n",
       "      <td>5.0</td>\n",
       "      <td>160</td>\n",
       "      <td>27</td>\n",
       "      <td>6</td>\n",
       "      <td>Positive</td>\n",
       "      <td>food good order kodi drumstick basket mutton b...</td>\n",
       "    </tr>\n",
       "  </tbody>\n",
       "</table>\n",
       "</div>"
      ]
     },
     "execution_count": 38,
     "metadata": {},
     "output_type": "execute_result"
    }
   ],
   "execution_count": 38
  },
  {
   "metadata": {
    "ExecuteTime": {
     "end_time": "2025-10-15T10:50:10.616208Z",
     "start_time": "2025-10-15T10:50:10.551848Z"
    }
   },
   "cell_type": "code",
   "source": "data['Rating'].shape",
   "id": "2c6034f94aeba8c6",
   "outputs": [
    {
     "data": {
      "text/plain": [
       "(9954,)"
      ]
     },
     "execution_count": 39,
     "metadata": {},
     "output_type": "execute_result"
    }
   ],
   "execution_count": 39
  },
  {
   "metadata": {
    "ExecuteTime": {
     "end_time": "2025-10-15T10:50:10.716820Z",
     "start_time": "2025-10-15T10:50:10.694300Z"
    }
   },
   "cell_type": "code",
   "source": [
    "def categorize_rating(r):\n",
    "    if r > 3.5:\n",
    "        return \"Positive\"\n",
    "    elif r < 2:\n",
    "        return \"Negative\"\n",
    "    else:\n",
    "        return \"Neutral\"\n",
    "\n",
    "data['sentiment'] = data['Rating'].apply(categorize_rating)"
   ],
   "id": "79035c690a6a1d9",
   "outputs": [],
   "execution_count": 40
  },
  {
   "metadata": {
    "ExecuteTime": {
     "end_time": "2025-10-15T10:50:10.997201Z",
     "start_time": "2025-10-15T10:50:10.733582Z"
    }
   },
   "cell_type": "code",
   "source": [
    "from sklearn.model_selection import train_test_split\n",
    "\n",
    "x = data['processed_text']\n",
    "y = data['sentiment']\n",
    "\n",
    "x_train, x_test, y_train, y_test = train_test_split(x, y, test_size = 0.2, random_state = 42, stratify = y)"
   ],
   "id": "90a46ef06f3137c8",
   "outputs": [],
   "execution_count": 41
  },
  {
   "metadata": {
    "ExecuteTime": {
     "end_time": "2025-10-15T10:50:15.291029Z",
     "start_time": "2025-10-15T10:50:11.012863Z"
    }
   },
   "cell_type": "code",
   "source": [
    "from sklearn.feature_extraction.text import TfidfVectorizer\n",
    "vectorizer = TfidfVectorizer(max_features = 10500, ngram_range = (1, 2), stop_words = \"english\")\n",
    "x_train_vec = vectorizer.fit_transform(x_train)\n",
    "x_test_vec = vectorizer.transform(x_test)"
   ],
   "id": "e622973400c2b0ee",
   "outputs": [],
   "execution_count": 42
  },
  {
   "metadata": {
    "ExecuteTime": {
     "end_time": "2025-10-15T10:50:21.166781Z",
     "start_time": "2025-10-15T10:50:15.302812Z"
    }
   },
   "cell_type": "code",
   "source": [
    "from sklearn.linear_model import LogisticRegression\n",
    "from sklearn.metrics import classification_report, confusion_matrix, accuracy_score\n",
    "\n",
    "log = LogisticRegression(max_iter = 1000, random_state = 42)\n",
    "log.fit(x_train_vec, y_train)\n",
    "y_pred = log.predict(x_test_vec)"
   ],
   "id": "b83e6c37e21a57a9",
   "outputs": [],
   "execution_count": 43
  },
  {
   "metadata": {
    "ExecuteTime": {
     "end_time": "2025-10-15T10:50:21.307751Z",
     "start_time": "2025-10-15T10:50:21.279513Z"
    }
   },
   "cell_type": "code",
   "source": "accuracy_score(y_test, y_pred)",
   "id": "2c4df35fe9a3d5aa",
   "outputs": [
    {
     "data": {
      "text/plain": [
       "0.7975891511803114"
      ]
     },
     "execution_count": 44,
     "metadata": {},
     "output_type": "execute_result"
    }
   ],
   "execution_count": 44
  },
  {
   "metadata": {
    "ExecuteTime": {
     "end_time": "2025-10-15T10:50:22.292884Z",
     "start_time": "2025-10-15T10:50:21.542044Z"
    }
   },
   "cell_type": "code",
   "source": "print(classification_report(y_test, y_pred))",
   "id": "8a4dc9a01c5d3175",
   "outputs": [
    {
     "name": "stdout",
     "output_type": "stream",
     "text": [
      "              precision    recall  f1-score   support\n",
      "\n",
      "    Negative       0.78      0.74      0.76       349\n",
      "     Neutral       0.58      0.32      0.42       388\n",
      "    Positive       0.83      0.96      0.89      1254\n",
      "\n",
      "    accuracy                           0.80      1991\n",
      "   macro avg       0.73      0.68      0.69      1991\n",
      "weighted avg       0.78      0.80      0.78      1991\n",
      "\n"
     ]
    }
   ],
   "execution_count": 45
  },
  {
   "metadata": {
    "ExecuteTime": {
     "end_time": "2025-10-15T10:52:06.498488Z",
     "start_time": "2025-10-15T10:50:22.476012Z"
    }
   },
   "cell_type": "code",
   "source": [
    "from sklearn.ensemble import RandomForestClassifier\n",
    "\n",
    "rf = RandomForestClassifier(n_estimators = 300, random_state = 42)\n",
    "rf.fit(x_train_vec, y_train)\n",
    "y_pred = rf.predict(x_test_vec)"
   ],
   "id": "d3eb7557bcd381b4",
   "outputs": [],
   "execution_count": 46
  },
  {
   "metadata": {
    "ExecuteTime": {
     "end_time": "2025-10-15T10:52:06.665506Z",
     "start_time": "2025-10-15T10:52:06.649192Z"
    }
   },
   "cell_type": "code",
   "source": "accuracy_score(y_test, y_pred)",
   "id": "58ee3b355a51675d",
   "outputs": [
    {
     "data": {
      "text/plain": [
       "0.7815168257157208"
      ]
     },
     "execution_count": 47,
     "metadata": {},
     "output_type": "execute_result"
    }
   ],
   "execution_count": 47
  },
  {
   "metadata": {
    "ExecuteTime": {
     "end_time": "2025-10-15T10:52:06.835024Z",
     "start_time": "2025-10-15T10:52:06.777947Z"
    }
   },
   "cell_type": "code",
   "source": "print(classification_report(y_test, y_pred))",
   "id": "8dd4c159eaa53786",
   "outputs": [
    {
     "name": "stdout",
     "output_type": "stream",
     "text": [
      "              precision    recall  f1-score   support\n",
      "\n",
      "    Negative       0.76      0.75      0.76       349\n",
      "     Neutral       0.59      0.17      0.26       388\n",
      "    Positive       0.80      0.98      0.88      1254\n",
      "\n",
      "    accuracy                           0.78      1991\n",
      "   macro avg       0.72      0.63      0.63      1991\n",
      "weighted avg       0.75      0.78      0.74      1991\n",
      "\n"
     ]
    }
   ],
   "execution_count": 48
  },
  {
   "metadata": {
    "ExecuteTime": {
     "end_time": "2025-10-15T10:53:04.872445Z",
     "start_time": "2025-10-15T10:52:06.905683Z"
    }
   },
   "cell_type": "code",
   "source": [
    "from sklearn.preprocessing import LabelEncoder\n",
    "le = LabelEncoder()\n",
    "y_train_enc = le.fit_transform(y_train)\n",
    "y_test_enc = le.transform(y_test)\n",
    "\n",
    "from xgboost import XGBClassifier\n",
    "xgb = XGBClassifier(use_label_encoder = False, eval_metrics = 'mlogloss', random_state = 42, max_depth = 4, min_child_weight = 2, subsample = 0.8, colsample_bytree = 0.8, reg_lambda = 2, reg_alpha = 1)\n",
    "xgb.fit(x_train_vec, y_train_enc, eval_set = [(x_test_vec, y_test_enc)], verbose = False)\n",
    "y_pred_enc = xgb.predict(x_test_vec)"
   ],
   "id": "18529c29b4425cf8",
   "outputs": [
    {
     "name": "stderr",
     "output_type": "stream",
     "text": [
      "C:\\Users\\DELL\\PycharmProjects\\PythonProject\\.venv\\Lib\\site-packages\\xgboost\\training.py:183: UserWarning: [11:52:07] WARNING: C:\\actions-runner\\_work\\xgboost\\xgboost\\src\\learner.cc:738: \n",
      "Parameters: { \"eval_metrics\", \"use_label_encoder\" } are not used.\n",
      "\n",
      "  bst.update(dtrain, iteration=i, fobj=obj)\n"
     ]
    }
   ],
   "execution_count": 49
  },
  {
   "metadata": {
    "ExecuteTime": {
     "end_time": "2025-10-15T10:53:05.037823Z",
     "start_time": "2025-10-15T10:53:04.912060Z"
    }
   },
   "cell_type": "code",
   "source": [
    "from sklearn.metrics import accuracy_score\n",
    "\n",
    "# Training accuracy\n",
    "train_preds = xgb.predict(x_train_vec)\n",
    "train_acc = accuracy_score(y_train_enc, train_preds)\n",
    "\n",
    "# Test accuracy\n",
    "test_preds = xgb.predict(x_test_vec)\n",
    "test_acc = accuracy_score(y_test_enc, test_preds)\n",
    "\n",
    "print(f\"Training Accuracy: {train_acc:.3f}\")\n",
    "print(f\"Test Accuracy: {test_acc:.3f}\")\n"
   ],
   "id": "eadca2b84e375553",
   "outputs": [
    {
     "name": "stdout",
     "output_type": "stream",
     "text": [
      "Training Accuracy: 0.876\n",
      "Test Accuracy: 0.784\n"
     ]
    }
   ],
   "execution_count": 50
  },
  {
   "metadata": {
    "ExecuteTime": {
     "end_time": "2025-10-15T10:54:05.547670Z",
     "start_time": "2025-10-15T10:53:05.077289Z"
    }
   },
   "cell_type": "code",
   "source": [
    "from sklearn.model_selection import cross_val_score\n",
    "\n",
    "scores = cross_val_score(xgb, x_train_vec, y_train_enc, cv=5, scoring='accuracy')\n",
    "print(\"Cross-validation scores:\", scores)\n",
    "print(\"Mean CV accuracy:\", scores.mean())\n"
   ],
   "id": "130df0e2c0595c51",
   "outputs": [
    {
     "name": "stderr",
     "output_type": "stream",
     "text": [
      "C:\\Users\\DELL\\PycharmProjects\\PythonProject\\.venv\\Lib\\site-packages\\xgboost\\training.py:183: UserWarning: [11:53:05] WARNING: C:\\actions-runner\\_work\\xgboost\\xgboost\\src\\learner.cc:738: \n",
      "Parameters: { \"eval_metrics\", \"use_label_encoder\" } are not used.\n",
      "\n",
      "  bst.update(dtrain, iteration=i, fobj=obj)\n",
      "C:\\Users\\DELL\\PycharmProjects\\PythonProject\\.venv\\Lib\\site-packages\\xgboost\\training.py:183: UserWarning: [11:53:17] WARNING: C:\\actions-runner\\_work\\xgboost\\xgboost\\src\\learner.cc:738: \n",
      "Parameters: { \"eval_metrics\", \"use_label_encoder\" } are not used.\n",
      "\n",
      "  bst.update(dtrain, iteration=i, fobj=obj)\n",
      "C:\\Users\\DELL\\PycharmProjects\\PythonProject\\.venv\\Lib\\site-packages\\xgboost\\training.py:183: UserWarning: [11:53:28] WARNING: C:\\actions-runner\\_work\\xgboost\\xgboost\\src\\learner.cc:738: \n",
      "Parameters: { \"eval_metrics\", \"use_label_encoder\" } are not used.\n",
      "\n",
      "  bst.update(dtrain, iteration=i, fobj=obj)\n",
      "C:\\Users\\DELL\\PycharmProjects\\PythonProject\\.venv\\Lib\\site-packages\\xgboost\\training.py:183: UserWarning: [11:53:40] WARNING: C:\\actions-runner\\_work\\xgboost\\xgboost\\src\\learner.cc:738: \n",
      "Parameters: { \"eval_metrics\", \"use_label_encoder\" } are not used.\n",
      "\n",
      "  bst.update(dtrain, iteration=i, fobj=obj)\n",
      "C:\\Users\\DELL\\PycharmProjects\\PythonProject\\.venv\\Lib\\site-packages\\xgboost\\training.py:183: UserWarning: [11:53:52] WARNING: C:\\actions-runner\\_work\\xgboost\\xgboost\\src\\learner.cc:738: \n",
      "Parameters: { \"eval_metrics\", \"use_label_encoder\" } are not used.\n",
      "\n",
      "  bst.update(dtrain, iteration=i, fobj=obj)\n"
     ]
    },
    {
     "name": "stdout",
     "output_type": "stream",
     "text": [
      "Cross-validation scores: [0.78782172 0.782172   0.77589454 0.80150754 0.79396985]\n",
      "Mean CV accuracy: 0.7882731296154344\n"
     ]
    }
   ],
   "execution_count": 51
  },
  {
   "metadata": {
    "ExecuteTime": {
     "end_time": "2025-10-15T10:54:05.622248Z",
     "start_time": "2025-10-15T10:54:05.610645Z"
    }
   },
   "cell_type": "code",
   "source": [
    "import joblib\n",
    "\n",
    "joblib.dump(log, 'Restaurant_review_model')"
   ],
   "id": "f5c0117a0d3ba453",
   "outputs": [
    {
     "data": {
      "text/plain": [
       "['Restaurant_review_model']"
      ]
     },
     "execution_count": 52,
     "metadata": {},
     "output_type": "execute_result"
    }
   ],
   "execution_count": 52
  },
  {
   "metadata": {
    "ExecuteTime": {
     "end_time": "2025-10-15T10:54:06.295312Z",
     "start_time": "2025-10-15T10:54:05.748775Z"
    }
   },
   "cell_type": "code",
   "source": "joblib.dump(vectorizer, 'tfidf_vectorizer.pkl')\n",
   "id": "3bbdf3e4ac705187",
   "outputs": [
    {
     "data": {
      "text/plain": [
       "['tfidf_vectorizer.pkl']"
      ]
     },
     "execution_count": 53,
     "metadata": {},
     "output_type": "execute_result"
    }
   ],
   "execution_count": 53
  },
  {
   "metadata": {
    "ExecuteTime": {
     "end_time": "2025-10-15T10:54:06.344436Z",
     "start_time": "2025-10-15T10:54:06.333821Z"
    }
   },
   "cell_type": "code",
   "source": [
    "import tkinter as tk\n",
    "from tkinter import ttk\n",
    "from nltk.corpus import stopwords\n",
    "from nltk.stem import PorterStemmer\n",
    "from sklearn.feature_extraction.text import TfidfVectorizer\n",
    "import joblib\n",
    "import re"
   ],
   "id": "c67d3c940713ab24",
   "outputs": [],
   "execution_count": 54
  },
  {
   "metadata": {
    "ExecuteTime": {
     "end_time": "2025-10-15T11:16:25.671675Z",
     "start_time": "2025-10-15T11:12:20.396940Z"
    }
   },
   "cell_type": "code",
   "source": [
    "class RestaurantReviewApp:\n",
    "    def __init__(self, master):\n",
    "        self.master = master\n",
    "        master.title(\"Restaurant Review Classification App\")\n",
    "        master.geometry(\"400x300\")\n",
    "\n",
    "        self.model = joblib.load('Restaurant_review_model')\n",
    "        self.vectorizer = joblib.load('tfidf_vectorizer.pkl')\n",
    "\n",
    "        title_font = ('Helvetica', 16, 'bold')\n",
    "        self.label = ttk.Label(master, text = \"Enter your review please:\", font = title_font)\n",
    "        self.label.pack(pady = 10)\n",
    "\n",
    "        self.text_entry = tk.Text(master, height = 5, width = 40)\n",
    "        self.text_entry.pack(pady = 10)\n",
    "\n",
    "        self.classify_button = ttk.Button(master, text = \"classify\", command = self.classify_review, style = 'Custom.TButton')\n",
    "        self.classify_button.pack(pady = 10)\n",
    "\n",
    "        self.result_label = ttk.Label(master, text = \"\", font = ('Helvetica', 12))\n",
    "        self.result_label.pack(pady = 10)\n",
    "\n",
    "        self.style = ttk.Style()\n",
    "        self.style.configure('Custom.TButton', font = ('Helvetica', 12), width = 15, foreground = \"black\",\n",
    "                              background = '#4CAF50', padding = (10, 5))\n",
    "        self.style.map('Custom.TButton', foreground = [('pressed', 'black'), ('active', 'white')], background = [('pressed', '!disabled', '#451049'), ('active', '#4CAF50')])\n",
    "\n",
    "\n",
    "    def preprocess_text(self, text):\n",
    "        custom_stopwords = {'a',\n",
    "             'about',\n",
    "             'above',\n",
    "             'after',\n",
    "             'again',\n",
    "             'against',\n",
    "             'ain',\n",
    "             'all',\n",
    "             'am',\n",
    "             'an',\n",
    "             'and',\n",
    "             'any',\n",
    "             'are',\n",
    "             'aren',\n",
    "             \"aren't\",\n",
    "             'as',\n",
    "             'at',\n",
    "             'be',\n",
    "             'because',\n",
    "             'been',\n",
    "             'before',\n",
    "             'being',\n",
    "             'below',\n",
    "             'between',\n",
    "             'both',\n",
    "             'but',\n",
    "             'by',\n",
    "             'can',\n",
    "             'couldn',\n",
    "             \"couldn't\",\n",
    "             'd',\n",
    "             'did',\n",
    "             'didn',\n",
    "             \"didn't\",\n",
    "             'do',\n",
    "             'does',\n",
    "             'doesn',\n",
    "             \"doesn't\",\n",
    "             'doing',\n",
    "             'don',\n",
    "             \"don't\",\n",
    "             'down',\n",
    "             'during',\n",
    "             'each',\n",
    "             'few',\n",
    "             'for',\n",
    "             'from',\n",
    "             'further',\n",
    "             'had',\n",
    "             'hadn',\n",
    "             \"hadn't\",\n",
    "             'has',\n",
    "             'hasn',\n",
    "             \"hasn't\",\n",
    "             'have',\n",
    "             'haven',\n",
    "             \"haven't\",\n",
    "             'having',\n",
    "             'he',\n",
    "             \"he'd\",\n",
    "             \"he'll\",\n",
    "             'her',\n",
    "             'here',\n",
    "             'hers',\n",
    "             'herself',\n",
    "             \"he's\",\n",
    "             'him',\n",
    "             'himself',\n",
    "             'his',\n",
    "             'how',\n",
    "             'i',\n",
    "             \"i'd\",\n",
    "             'if',\n",
    "             \"i'll\",\n",
    "             \"i'm\",\n",
    "             'in',\n",
    "             'into',\n",
    "             'is',\n",
    "             'isn',\n",
    "             \"isn't\",\n",
    "             'it',\n",
    "             \"it'd\",\n",
    "             \"it'll\",\n",
    "             \"it's\",\n",
    "             'its',\n",
    "             'itself',\n",
    "             \"i've\",\n",
    "             'just',\n",
    "             'll',\n",
    "             'm',\n",
    "             'ma',\n",
    "             'me',\n",
    "             'mightn',\n",
    "             \"mightn't\",\n",
    "             'more',\n",
    "             'most',\n",
    "             'mustn',\n",
    "             \"mustn't\",\n",
    "             'my',\n",
    "             'myself',\n",
    "             'needn',\n",
    "             \"needn't\",\n",
    "             'no',\n",
    "             'nor',\n",
    "             'now',\n",
    "             'o',\n",
    "             'of',\n",
    "             'off',\n",
    "             'on',\n",
    "             'once',\n",
    "             'only',\n",
    "             'or',\n",
    "             'other',\n",
    "             'our',\n",
    "             'ours',\n",
    "             'ourselves',\n",
    "             'out',\n",
    "             'over',\n",
    "             'own',\n",
    "             're',\n",
    "             's',\n",
    "             'same',\n",
    "             'shan',\n",
    "             \"shan't\",\n",
    "             'she',\n",
    "             \"she'd\",\n",
    "             \"she'll\",\n",
    "             \"she's\",\n",
    "             'should',\n",
    "             'shouldn',\n",
    "             \"shouldn't\",\n",
    "             \"should've\",\n",
    "             'so',\n",
    "             'some',\n",
    "             'such',\n",
    "             't',\n",
    "             'than',\n",
    "             'that',\n",
    "             \"that'll\",\n",
    "             'the',\n",
    "             'their',\n",
    "             'theirs',\n",
    "             'them',\n",
    "             'themselves',\n",
    "             'then',\n",
    "             'there',\n",
    "             'these',\n",
    "             'they',\n",
    "             \"they'd\",\n",
    "             \"they'll\",\n",
    "             \"they're\",\n",
    "             \"they've\",\n",
    "             'this',\n",
    "             'those',\n",
    "             'through',\n",
    "             'to',\n",
    "             'too',\n",
    "             'under',\n",
    "             'until',\n",
    "             'up',\n",
    "             've',\n",
    "             'very',\n",
    "             'was',\n",
    "             'wasn',\n",
    "             \"wasn't\",\n",
    "             'we',\n",
    "             \"we'd\",\n",
    "             \"we'll\",\n",
    "             \"we're\",\n",
    "             'were',\n",
    "             'weren',\n",
    "             \"weren't\",\n",
    "             \"we've\",\n",
    "             'what',\n",
    "             'when',\n",
    "             'where',\n",
    "             'which',\n",
    "             'while',\n",
    "             'who',\n",
    "             'whom',\n",
    "             'why',\n",
    "             'will',\n",
    "             'with',\n",
    "             'won',\n",
    "             \"won't\",\n",
    "             'wouldn',\n",
    "             \"wouldn't\",\n",
    "             'y',\n",
    "             'you',\n",
    "             \"you'd\",\n",
    "             \"you'll\",\n",
    "             'your',\n",
    "             \"you're\",\n",
    "             'yours',\n",
    "             'yourself',\n",
    "             'yourselves',\n",
    "             \"you've\"}\n",
    "\n",
    "        ps = PorterStemmer()\n",
    "        stop_words = set(stopwords.words(\"english\")) - custom_stopwords\n",
    "\n",
    "        review = re.sub('[^a-zA-Z]', ' ', text)\n",
    "        review = review.lower()\n",
    "        review = review.split()\n",
    "        review = [ps.stem(word) for word in review if word not in stop_words]\n",
    "        review = \" \".join(review)\n",
    "        return review\n",
    "\n",
    "    def classify_review(self):\n",
    "        user_input = self.text_entry.get(\"1.0\", \"end-1c\")\n",
    "        if user_input:\n",
    "            processed_input = self.preprocess_text(user_input)\n",
    "            processed_input_vectorized = self.vectorizer.transform([processed_input])\n",
    "            prediction = self.model.predict(processed_input_vectorized)[0]\n",
    "\n",
    "            sentiment = prediction\n",
    "            self.result_label.config(text = f\"Predicted Sentiment: {sentiment}\")\n",
    "        else:\n",
    "            self.result_label.config(text = \"Pls enter a review before clicking 'Classify'.\")\n",
    "\n",
    "if __name__ == \"__main__\":\n",
    "    root = tk.Tk()\n",
    "    app = RestaurantReviewApp(root)\n",
    "    root.mainloop()\n",
    "\n",
    "\n",
    "\n"
   ],
   "id": "da8e2200ea7e95a3",
   "outputs": [],
   "execution_count": 60
  },
  {
   "metadata": {},
   "cell_type": "code",
   "outputs": [],
   "execution_count": null,
   "source": "",
   "id": "543584eb78a63318"
  }
 ],
 "metadata": {
  "kernelspec": {
   "display_name": "Python 3",
   "language": "python",
   "name": "python3"
  },
  "language_info": {
   "codemirror_mode": {
    "name": "ipython",
    "version": 2
   },
   "file_extension": ".py",
   "mimetype": "text/x-python",
   "name": "python",
   "nbconvert_exporter": "python",
   "pygments_lexer": "ipython2",
   "version": "2.7.6"
  }
 },
 "nbformat": 4,
 "nbformat_minor": 5
}
